{
  "cells": [
    {
      "cell_type": "markdown",
      "metadata": {
        "id": "view-in-github",
        "colab_type": "text"
      },
      "source": [
        "<a href=\"https://colab.research.google.com/github/jhordanfree/Python/blob/master/Logica_0.ipynb\" target=\"_parent\"><img src=\"https://colab.research.google.com/assets/colab-badge.svg\" alt=\"Open In Colab\"/></a>"
      ]
    },
    {
      "cell_type": "markdown",
      "metadata": {
        "id": "ZpcLzHK8T6Jf"
      },
      "source": [
        "# Logica"
      ]
    },
    {
      "cell_type": "markdown",
      "metadata": {
        "id": "GvE0cfqjT6Jg"
      },
      "source": [
        "---"
      ]
    },
    {
      "cell_type": "code",
      "execution_count": null,
      "metadata": {
        "id": "J6uvH121T6Jh"
      },
      "outputs": [],
      "source": [
        "import itertools\n",
        "import re\n",
        "from itertools import product\n",
        "from tabulate import tabulate\n",
        "from collections import OrderedDict\n",
        "\n",
        "symbols = {'∧', '∨', '→', '↔'} # Símbolos para facilitar la copia en la declaración lógica\n",
        "\n",
        "statement = '~(A ∧ B) ↔ (~A ∨ ~B)'"
      ]
    },
    {
      "cell_type": "markdown",
      "metadata": {
        "id": "jSB4zYtQT6Ji"
      },
      "source": [
        "---"
      ]
    },
    {
      "cell_type": "markdown",
      "metadata": {
        "id": "-5vgQKX5T6Ji"
      },
      "source": [
        "## Lógica proposicional"
      ]
    },
    {
      "cell_type": "markdown",
      "metadata": {
        "id": "goFMJoGZT6Ji"
      },
      "source": [
        "### Valores booleanos"
      ]
    },
    {
      "cell_type": "markdown",
      "metadata": {
        "id": "3jjyg5G2T6Ji"
      },
      "source": [
        "$\n",
        "\\begin{array}{c|c|c}\n",
        "& \\text{Aritmética} & \\text{Lógica booleana} \\\\\n",
        "\\hline\n",
        "\\text{Valores} & ..., -2, -1, 0, 1, 2, ... & \\text{T}, \\text{F} \\\\\n",
        "\\hline\n",
        "\\text{Operadores} & +, -, \\times, \\div & \\land, \\lor, \\lnot \\\\\n",
        "\\end{array}\n",
        "$"
      ]
    },
    {
      "cell_type": "markdown",
      "metadata": {
        "id": "SxeYvXTnT6Ji"
      },
      "source": [
        "A diferencia del número indefinido (o infinito) de valores sobre los que opera la aritmética, la lógica proposicional sólo maneja dos valores booleanos: verdadero y falso.\n",
        "\n",
        "$\n",
        "\\begin{array}{c|c|c|c}\n",
        "\\text{Boolean} & \\text{binary} & \\text{Python} & \\text{physical} \\\\\n",
        "\\hline\n",
        "\\text{true, T}  & 1 & \\text{True}  & \\text{high voltage} \\\\\n",
        "\\text{false, F} & 0 & \\text{False} & \\text{low voltage}  \\\\\n",
        "\\end{array}\n",
        "$"
      ]
    },
    {
      "cell_type": "code",
      "execution_count": null,
      "metadata": {
        "id": "uL9pbj7IT6Jj"
      },
      "outputs": [],
      "source": [
        "print(type(True))\n",
        "print(type(False))"
      ]
    },
    {
      "cell_type": "markdown",
      "metadata": {
        "id": "KO0oskjiT6Jk"
      },
      "source": [
        "### Conjunción (and)"
      ]
    },
    {
      "cell_type": "markdown",
      "metadata": {
        "id": "HAFnGcW2T6Jk"
      },
      "source": [
        "La conjunción se representa con el símbolo $\\land$.\n",
        "\n",
        "Definición de la operación binaria\n",
        "\n",
        "$\n",
        "\\begin{array}{c|cc}\n",
        "\\land & \\text{T} & \\text{F} \\\\\n",
        "\\hline\n",
        "\\text{T} & \\text{T} & \\text{F} \\\\\n",
        "\\text{F} & \\text{F} & \\text{F} \\\\\n",
        "\\end{array}\n",
        "$\n",
        "\n",
        "Tabla de verdad binaria\n",
        "\n",
        "$\n",
        "\\begin{array}{cc|c}\n",
        "\\text{P} & \\text{Q} & \\text{P} \\land \\text{Q} \\\\\n",
        "\\hline\n",
        "\\text{T} & \\text{T} & \\text{T} \\\\\n",
        "\\text{T} & \\text{F} & \\text{F} \\\\\n",
        "\\text{F} & \\text{T} & \\text{F} \\\\\n",
        "\\text{F} & \\text{F} & \\text{F} \\\\\n",
        "\\end{array}\n",
        "$\n",
        "\n",
        "\n",
        "* $\\text{P}$ El cielo es azul.\n",
        "* $\\text{Q}$ La luna esta llena.\n",
        "* $\\text{P} \\land \\text{Q}$\n",
        "  * El cielo es azul y la luna está llena.\n",
        "  * El cielo es azul, pero la luna está llena.\n",
        "  * A pesar de que el cielo es azul, la luna está llena.\n",
        "  * A pesar de que el cielo es azul, la luna está llena."
      ]
    },
    {
      "cell_type": "code",
      "execution_count": null,
      "metadata": {
        "id": "hXUAK9kqT6Jk"
      },
      "outputs": [],
      "source": [
        "for P, Q in product((True, False), repeat=2):\n",
        "  print(f\"{str(P):<5} and {str(Q):<5} is {P and Q}\")"
      ]
    },
    {
      "cell_type": "markdown",
      "metadata": {
        "id": "DPAgavwIT6Jl"
      },
      "source": [
        "La conjunción de $n$ variables proposicionales es verdadera si y sólo si cada variable es verdadera. En otras palabras, si al menos una variable de una conjunción es falsa entonces la conjunción es falsa, en caso contrario es verdadera.\n",
        "\n",
        "\n",
        "\n"
      ]
    },
    {
      "cell_type": "code",
      "execution_count": null,
      "metadata": {
        "id": "SymoJvS1T6Jl"
      },
      "outputs": [],
      "source": [
        "P = True\n",
        "Q = True\n",
        "R = True\n",
        "print(P and Q and R) # all((P, Q, R))\n",
        "\n",
        "A = B = C = D = E = F = G = True\n",
        "print(A and B and C and D and E and F and G)\n",
        "\n",
        "G = False\n",
        "print(A and B and C and D and E and F and G)"
      ]
    },
    {
      "cell_type": "markdown",
      "metadata": {
        "id": "wRgEowGTT6Jl"
      },
      "source": [
        "### Disyunción inclusiva (or)"
      ]
    },
    {
      "cell_type": "markdown",
      "metadata": {
        "id": "v3MYE8U2T6Jl"
      },
      "source": [
        "La disyunción inclusiva se representa mediante el símbolo $\\lor$.\n",
        "\n",
        "Definición\n",
        "\n",
        "$\n",
        "\\begin{array}{c|cc} \\lor & \\text{T} & \\text{F} \\\\\n",
        "\\hline\n",
        "\\text{T} & \\text{T} & \\text{T} \\\\\n",
        "\\text{F} & \\text{T} & \\text{F} \\\\\n",
        "\\end{array}\n",
        "$\n",
        "\n",
        "Tabla de verdad\n",
        "\n",
        "$\n",
        "\\begin{array}{cc|c}\n",
        "\\text{P} & \\text{Q} & \\text{P} \\lor \\text{Q} \\\\\n",
        "\\hline\n",
        "\\text{T} & \\text{T} & \\text{T} \\\\\n",
        "\\text{T} & \\text{F} & \\text{T} \\\\\n",
        "\\text{F} & \\text{T} & \\text{T} \\\\\n",
        "\\text{F} & \\text{F} & \\text{F} \\\\\n",
        "\\end{array}\n",
        "$\n",
        "\n",
        "\n",
        "* $\\text{P}$ El cielo es azul.\n",
        "* $\\text{Q}$ La luna está llena.\n",
        "* $\\text{P} \\lor \\text{Q}$ El cielo es azul o la luna está llena, o ambas cosas."
      ]
    },
    {
      "cell_type": "code",
      "execution_count": null,
      "metadata": {
        "colab": {
          "base_uri": "https://localhost:8080/"
        },
        "id": "XK3Hyw2XT6Jl",
        "outputId": "b5ce807d-a9bb-4fa6-f55c-f6186cf13b15"
      },
      "outputs": [
        {
          "output_type": "stream",
          "name": "stdout",
          "text": [
            "True  or True  is True\n",
            "True  or False is True\n",
            "False or True  is True\n",
            "False or False is False\n"
          ]
        }
      ],
      "source": [
        "for P, Q in product((True, False), repeat=2):\n",
        "  print(f\"{str(P):<5} or {str(Q):<5} is {P or Q}\")"
      ]
    },
    {
      "cell_type": "markdown",
      "metadata": {
        "id": "U3pys2oTT6Jm"
      },
      "source": [
        "La disyunción inclusiva de $n$ variables proposicionales es verdadera si al menos una variable es verdadera. En otras palabras, si ninguna variable de una disyunción inclusiva es verdadera entonces la disyunción inclusiva es falsa, en caso contrario es verdadera."
      ]
    },
    {
      "cell_type": "code",
      "execution_count": null,
      "metadata": {
        "id": "4g7kP_KYT6Jm"
      },
      "outputs": [],
      "source": [
        "P = True\n",
        "Q = True\n",
        "R = True\n",
        "print(P or Q or R) # all((P, Q, R))\n",
        "\n",
        "A = B = C = D = E = F = G = False\n",
        "print(A or B or C or D or E or F or G)\n",
        "\n",
        "G = True\n",
        "print(A or B or C or D or E or F or G)"
      ]
    },
    {
      "cell_type": "markdown",
      "metadata": {
        "id": "obysR_lvT6Jm"
      },
      "source": [
        "### Negación"
      ]
    },
    {
      "cell_type": "markdown",
      "metadata": {
        "id": "s5-0z7u3T6Jm"
      },
      "source": [
        "La negación se representa con el símbolo $\\lnot$. La negación es una función unaria porque toma un valor de entrada.\n",
        "\n",
        "Definición de la operación unaria\n",
        "\n",
        "$\n",
        "\\begin{array}{c|c} & \\lnot \\\\\n",
        "\\hline\n",
        "\\text{T} & \\text{F} \\\\\n",
        "\\text{F} & \\text{T} \\\\\n",
        "\\end{array}\n",
        "$\n",
        "\n",
        "Tabla de verdad unaria\n",
        "\n",
        "$\n",
        "\\begin{array}{c|c}\n",
        "\\text{P} & \\lnot \\text{P} \\\\\n",
        "\\hline\n",
        "\\text{T} & \\text{F} \\\\\n",
        "\\text{F} & \\text{T} \\\\\n",
        "\\end{array}\n",
        "$"
      ]
    },
    {
      "cell_type": "code",
      "execution_count": null,
      "metadata": {
        "id": "6qR3B_cNT6Jm"
      },
      "outputs": [],
      "source": [
        "for P in (True, False):\n",
        "  print(f\"not {str(P):<5} is {not P}\")"
      ]
    },
    {
      "cell_type": "markdown",
      "metadata": {
        "id": "NUFh6c_WT6Jn"
      },
      "source": [
        "### Disyunción excluyente (uno o ambos pero no los dos)"
      ]
    },
    {
      "cell_type": "markdown",
      "metadata": {
        "id": "q0c-XB6XT6Jn"
      },
      "source": [
        "Definición de la operación binaria\n",
        "\n",
        "$\n",
        "\\begin{array}{c|cc} \\oplus & \\text{T} & \\text{F} \\\\\n",
        "\\hline\n",
        "\\text{T} & \\text{F} & \\text{T} \\\\\n",
        "\\text{F} & \\text{T} & \\text{F} \\\\\n",
        "\\end{array}\n",
        "$\n",
        "\n",
        "Tabla de verdad binaria\n",
        "\n",
        "$\n",
        "\\begin{array}{cc|c}\n",
        "\\text{P} & \\text{Q} & \\text{P} \\oplus \\text{Q} \\\\\n",
        "\\hline\n",
        "\\text{T} & \\text{T} & \\text{F} \\\\\n",
        "\\text{T} & \\text{F} & \\text{T} \\\\\n",
        "\\text{F} & \\text{T} & \\text{T} \\\\\n",
        "\\text{F} & \\text{F} & \\text{F} \\\\\n",
        "\\end{array}\n",
        "$\n",
        "\n",
        "\n",
        "* $\\text{P}$ El cielo es azul.\n",
        "* $\\text{Q}$ La luna está llena.\n",
        "* $\\text{P} \\oplus \\text{Q}$ El cielo es azul o la luna está llena, pero no ambas cosas."
      ]
    },
    {
      "cell_type": "code",
      "execution_count": null,
      "metadata": {
        "id": "Hh2vhPM-T6Jn"
      },
      "outputs": [],
      "source": [
        "def xor (P: bool, Q: bool) -> bool:\n",
        "  return    (P and not Q) \\\n",
        "         or (Q and not P)\n",
        "\n",
        "for P, Q in product((True, False), repeat=2):\n",
        "  print(xor(P, Q))"
      ]
    },
    {
      "cell_type": "markdown",
      "metadata": {
        "id": "dtF1rQ4LT6Jn"
      },
      "source": [
        "### Material Condicional/Implicación (si entonces)"
      ]
    },
    {
      "cell_type": "markdown",
      "metadata": {
        "id": "CRBmcyJMT6Jn"
      },
      "source": [
        "Definición\n",
        "\n",
        "$\n",
        "\\begin{array}{c|cc} \\rightarrow & \\text{T} & \\text{F} \\\\\n",
        "\\hline\n",
        "\\text{T} & \\text{T} & \\text{F} \\\\\n",
        "\\text{F} & \\text{T} & \\text{T} \\\\\n",
        "\\end{array}\n",
        "$\n",
        "\n",
        "Tabla de verdad\n",
        "\n",
        "$\n",
        "\\begin{array}{cc|c}\n",
        "\\text{P} & \\text{Q} & \\text{P} \\rightarrow \\text{Q} \\\\\n",
        "\\hline\n",
        "\\text{T} & \\text{T} & \\text{T} \\\\\n",
        "\\text{T} & \\text{F} & \\text{F} \\\\\n",
        "\\text{F} & \\text{T} & \\text{T} \\\\\n",
        "\\text{F} & \\text{F} & \\text{T} \\\\\n",
        "\\end{array}\n",
        "$\n",
        "\n",
        "* $\\text{P}$ El cielo es azul.\n",
        "* $\\text{Q}$ La luna está llena.\n",
        "* $\\text{P} \\rightarrow \\text{Q}$ Si el cielo es azul, es que hay luna llena. (If P, then Q)\n",
        "  * Si el cielo es azul, la luna está llena. (Si P, Q)\n",
        "  * La luna está llena si el cielo es azul. (Q si P)\n",
        "  * El cielo es azul implica que la luna está llena. (P implica Q)\n",
        "  * El cielo es azul sólo si la luna está llena. (P sólo si Q)\n",
        "  * El cielo es azul es suficiente para que la luna esté llena. (P es suficiente para Q)\n",
        "  * La luna llena es necesaria para que el cielo sea azul. (Q es necesaria para P)"
      ]
    },
    {
      "cell_type": "markdown",
      "source": [
        "Condicional"
      ],
      "metadata": {
        "id": "4aoWF-LHFszC"
      }
    },
    {
      "cell_type": "code",
      "execution_count": null,
      "metadata": {
        "id": "-WrAc5upT6Jn"
      },
      "outputs": [],
      "source": [
        "#Condicional\n",
        "def ifthen (P: bool,\n",
        "            Q: bool) -> bool:\n",
        "  return not (P and not Q)\n",
        "\n",
        "for P, Q in product((True, False), repeat=2):\n",
        "  print(ifthen(P, Q))"
      ]
    },
    {
      "cell_type": "markdown",
      "metadata": {
        "id": "af3Aie99T6Jo"
      },
      "source": [
        "#### Implicación inversa"
      ]
    },
    {
      "cell_type": "markdown",
      "metadata": {
        "id": "qlTN_r2IT6Jo"
      },
      "source": [
        "Definición\n",
        "\n",
        "$\n",
        "\\begin{array}{c|cc} \\leftarrow & \\text{T} & \\text{F} \\\\\n",
        "\\hline\n",
        "\\text{T} & \\text{T} & \\text{T} \\\\\n",
        "\\text{F} & \\text{F} & \\text{T} \\\\\n",
        "\\end{array}\n",
        "$\n",
        "\n",
        "Tabla de verdad\n",
        "\n",
        "$\n",
        "\\begin{array}{cc|c}\n",
        "\\text{P} & \\text{Q} & \\text{P} \\leftarrow \\text{Q} \\\\\n",
        "\\hline\n",
        "\\text{T} & \\text{T} & \\text{T} \\\\\n",
        "\\text{T} & \\text{F} & \\text{T} \\\\\n",
        "\\text{F} & \\text{T} & \\text{F} \\\\\n",
        "\\text{F} & \\text{F} & \\text{T} \\\\\n",
        "\\end{array}\n",
        "$\n",
        "\n",
        "\n",
        "* $\\text{P}$ El cielo es azul.\n",
        "* $\\text{Q}$ La luna está llena.\n",
        "* $\\text{P} \\leftarrow \\text{Q}$ El cielo es azul si hay luna llena. (P si Q)"
      ]
    },
    {
      "cell_type": "markdown",
      "metadata": {
        "id": "4LaiEEfTT6Jo"
      },
      "source": [
        "#### Contrapositivo"
      ]
    },
    {
      "cell_type": "markdown",
      "metadata": {
        "id": "OWfN5XAWT6Jo"
      },
      "source": [
        "Si no q, entonces no p.\n",
        "\n",
        "$\\text{P} \\rightarrow \\text{Q} \\overset{?}{\\equiv} \\lnot\\text{Q} \\rightarrow \\lnot\\text{P}$\n",
        "\n",
        "Prueba por sustitución\n",
        "\n",
        "$\n",
        "\\begin{aligned}\n",
        "\\text{P} \\rightarrow \\text{Q} && \\\\\n",
        "(\\lnot\\text{P} \\lor \\text{Q}) && \\text{condicionalidad} \\\\\n",
        "(\\text{Q} \\lor \\lnot\\text{P}) && \\text{conmutatividad} \\\\\n",
        "(\\lnot\\lnot\\text{Q} \\lor \\lnot\\text{P}) && \\text{doble negación} \\\\\n",
        "(\\lnot\\text{Q} \\rightarrow \\lnot\\text{P}) && \\text{condicionalidad} \\\\\n",
        "\\end{aligned}\n",
        "$\n",
        "\n",
        "$\\therefore \\text{P} \\rightarrow \\text{Q} \\equiv \\lnot\\text{Q} \\rightarrow \\lnot\\text{P}$\n",
        "\n",
        "$\\blacksquare$"
      ]
    },
    {
      "cell_type": "markdown",
      "metadata": {
        "id": "5LDwD44rT6Jo"
      },
      "source": [
        "#### Inversa"
      ]
    },
    {
      "cell_type": "markdown",
      "metadata": {
        "id": "wwZp6fotT6Jo"
      },
      "source": [
        "Si no es p, entonces no es q."
      ]
    },
    {
      "cell_type": "markdown",
      "metadata": {
        "id": "kdWE6ZtHT6Jo"
      },
      "source": [
        "### Bicondicional"
      ]
    },
    {
      "cell_type": "markdown",
      "metadata": {
        "id": "mrbL7tKST6Jp"
      },
      "source": [
        "Definición\n",
        "\n",
        "$\n",
        "\\begin{array}{c|cc} \\leftrightarrow & \\text{T} & \\text{F} \\\\\n",
        "\\hline\n",
        "\\text{T} & \\text{T} & \\text{F} \\\\\n",
        "\\text{F} & \\text{F} & \\text{T} \\\\\n",
        "\\end{array}\n",
        "$\n",
        "\n",
        "Tabla de verdad\n",
        "\n",
        "$\n",
        "\\begin{array}{cc|c}\n",
        "\\text{P} & \\text{Q} & \\text{P} \\leftrightarrow \\text{Q} \\\\\n",
        "\\hline\n",
        "\\text{T} & \\text{T} & \\text{T} \\\\\n",
        "\\text{T} & \\text{F} & \\text{F} \\\\\n",
        "\\text{F} & \\text{T} & \\text{F} \\\\\n",
        "\\text{F} & \\text{F} & \\text{T} \\\\\n",
        "\\end{array}\n",
        "$\n",
        "\n",
        "\n",
        "* $\\text{P}$ El cielo es azul.\n",
        "* $\\text{Q}$ La luna está llena.\n",
        "* $\\text{P} \\leftrightarrow \\text{Q}$ El cielo es azul si y sólo si hay luna llena. (P si y sólo si Q)"
      ]
    },
    {
      "cell_type": "code",
      "source": [
        "#BiCondicional\n",
        "def biconditional(P: bool,\n",
        "            Q: bool) -> bool:\n",
        "  return not (P and not Q)and not (Q and not P)\n",
        "\n",
        "def ifthen(P: bool,\n",
        "            Q: bool) -> bool:\n",
        "  return not (P and not Q)\n",
        "\n",
        "for P, Q in product((True, False), repeat=2):\n",
        "  print(biconditional(ifthen(not P,(Q and P)), not Q))\n"
      ],
      "metadata": {
        "id": "A5Wgd-OvVsSS"
      },
      "execution_count": null,
      "outputs": []
    },
    {
      "cell_type": "code",
      "source": [
        "def biconditional(P, Q):\n",
        "    #Evalúa la verdad de la bicondicional para las variables booleanas P y Q\n",
        "    return (True if P and Q\n",
        "        else True if not P and not Q\n",
        "        else False)\n",
        "print(biconditional(P,Q))"
      ],
      "metadata": {
        "id": "dN_ft-bbakm7"
      },
      "execution_count": null,
      "outputs": []
    },
    {
      "cell_type": "markdown",
      "metadata": {
        "id": "Cy_AR3uLT6Jp"
      },
      "source": [
        "### Tautología"
      ]
    },
    {
      "cell_type": "markdown",
      "metadata": {
        "id": "Ok6EGkXST6Jp"
      },
      "source": [
        "Definición\n",
        "\n",
        "$\n",
        "\\begin{array}{c|cc} \\top & \\text{T} & \\text{F} \\\\\n",
        "\\hline\n",
        "\\text{T} & \\text{T} & \\text{T} \\\\\n",
        "\\text{F} & \\text{T} & \\text{T} \\\\\n",
        "\\end{array}\n",
        "$\n",
        "\n",
        "Tabla de verdad\n",
        "\n",
        "$\n",
        "\\begin{array}{cc|c}\n",
        "\\text{P} & \\text{Q} & \\text{P} \\top \\text{Q} \\\\\n",
        "\\hline\n",
        "\\text{T} & \\text{T} & \\text{T} \\\\\n",
        "\\text{T} & \\text{F} & \\text{T} \\\\\n",
        "\\text{F} & \\text{T} & \\text{T} \\\\\n",
        "\\text{F} & \\text{F} & \\text{T} \\\\\n",
        "\\end{array}\n",
        "$"
      ]
    },
    {
      "cell_type": "code",
      "execution_count": null,
      "metadata": {
        "id": "xUnEoaXrT6Jp"
      },
      "outputs": [],
      "source": [
        "def tautology (a: bool,\n",
        "               b: bool) -> bool:\n",
        "  return True\n",
        "\n",
        "for P, Q in product((True, False), repeat=2):\n",
        "  print(tautology(P, Q))"
      ]
    },
    {
      "cell_type": "markdown",
      "metadata": {
        "id": "WgMTIC5TT6Jy"
      },
      "source": [
        "### Contradicción"
      ]
    },
    {
      "cell_type": "markdown",
      "metadata": {
        "id": "JsiQe257T6Jy"
      },
      "source": [
        "Definición\n",
        "\n",
        "$\n",
        "\\begin{array}{c|cc} \\bot & \\text{T} & \\text{F} \\\\\n",
        "\\hline\n",
        "\\text{T} & \\text{F} & \\text{F} \\\\\n",
        "\\text{F} & \\text{F} & \\text{F} \\\\\n",
        "\\end{array}\n",
        "$\n",
        "\n",
        "Tabla de verdad\n",
        "\n",
        "$\n",
        "\\begin{array}{cc|c}\n",
        "\\text{P} & \\text{Q} & \\text{P} \\bot \\text{Q} \\\\\n",
        "\\hline\n",
        "\\text{T} & \\text{T} & \\text{F} \\\\\n",
        "\\text{T} & \\text{F} & \\text{F} \\\\\n",
        "\\text{F} & \\text{T} & \\text{F} \\\\\n",
        "\\text{F} & \\text{F} & \\text{F} \\\\\n",
        "\\end{array}\n",
        "$"
      ]
    },
    {
      "cell_type": "code",
      "execution_count": null,
      "metadata": {
        "id": "SA2R95Z6T6Jy"
      },
      "outputs": [],
      "source": [
        "def contradiction (a: bool,\n",
        "                   b: bool) -> bool:\n",
        "  return False\n",
        "\n",
        "for P, Q in product((True, False), repeat=2):\n",
        "  print(contradiction(P, Q))"
      ]
    },
    {
      "cell_type": "markdown",
      "metadata": {
        "id": "A8BQGzWST6Jy"
      },
      "source": [
        "#### Resumen"
      ]
    },
    {
      "cell_type": "markdown",
      "metadata": {
        "id": "rIeyndn1T6Jy"
      },
      "source": [
        "##### Operaciones unarias"
      ]
    },
    {
      "cell_type": "markdown",
      "metadata": {
        "id": "_hZ8cweMT6Jy"
      },
      "source": [
        "$\n",
        "\\begin{array}{c|ccl}\n",
        "\\text{P} & 0 & 1 \\\\\n",
        "\\hline\n",
        "\\bot & 0 & 0 & \\text{contradicción (FALSO)} \\\\\n",
        "\\text{P} & 0 & 1 & \\text{identidad} \\\\\n",
        "\\lnot \\text{P} & 1 & 0 & \\text{negación (NO)} \\\\\n",
        "\\top & 1 & 1 & \\text{tautología (VERDADERO)} \\\\\n",
        "\\end{array}\n",
        "$"
      ]
    },
    {
      "cell_type": "markdown",
      "metadata": {
        "id": "IPgcJ1bcT6Jy"
      },
      "source": [
        "##### Operaciones binarias"
      ]
    },
    {
      "cell_type": "markdown",
      "metadata": {
        "id": "h_Z1hZ2mT6Jz"
      },
      "source": [
        "$\n",
        "\\begin{array}{c|ccccl}\n",
        "\\text{P} & 0 & 0 & 1 & 1 \\\\\n",
        "\\text{Q} & 0 & 1 & 0 & 1 \\\\\n",
        "\\hline\n",
        "\\bot & 0 & 0 & 0 & 0 & \\text{contradicción (FALSO)} \\\\\n",
        "\\land & 0 & 0 & 0 & 1 & \\text{conjunción (AND)} \\\\\n",
        "\\not\\rightarrow & 0 & 0 & 1 & 0 & \\text{abjunción, no implicación} \\\\\n",
        "\\text{P} & 0 & 0 & 1 & 1 & \\text{identidad} \\\\\n",
        "\\not\\leftarrow & 0 & 1 & 0 & 0 & \\text{no implicación inversa} \\\\\n",
        "\\text{Q} & 0 & 1 & 0 & 1 & \\text{identidad} \\\\\n",
        "\\oplus & 0 & 1 & 1 & 0 & \\text{disyunción exclusiva (XOR)} \\\\\n",
        "\\lor & 0 & 1 & 1 & 1 & \\text{disyunción inclusiva (OR)} \\\\\n",
        "\\downarrow & 1 & 0 & 0 & 0 & \\text{not or (NOR)} \\\\\n",
        "\\leftrightarrow & 1 & 0 & 0 & 1 & \\text{bicondicional (XNOR)} \\\\\n",
        "\\lnot \\text{Q} & 1 & 0 & 1 & 0 & \\text{negacion (NOT)} \\\\\n",
        "\\leftarrow & 1 & 0 & 1 & 1 & \\text{implicación inversa/condicional} \\\\\n",
        "\\lnot \\text{P} & 1 & 1 & 0 & 0 & \\text{negación (NOT)} \\\\\n",
        "\\rightarrow & 1 & 1 & 0 & 1 & \\text{implicación/condicional} \\\\\n",
        "\\uparrow & 1 & 1 & 1 & 0 & \\text{not and (NAND)} \\\\\n",
        "\\top & 1 & 1 & 1 & 1 & \\text{tautología (VERDAD)} \\\\\n",
        "\\end{array}\n",
        "$"
      ]
    },
    {
      "cell_type": "markdown",
      "metadata": {
        "id": "v0unBsLpT6Jz"
      },
      "source": [
        "$\n",
        "\\begin{array}{cc|ccc} P & Q & P \\land Q & P \\lor Q & \\lnot P \\\\\n",
        "\\hline\n",
        "\\text{T} & \\text{T} & \\text{T} & \\text{T} & \\text{F} \\\\\n",
        "\\text{T} & \\text{F} & \\text{F} & \\text{T} \\\\\n",
        "\\text{F} & \\text{T} & \\text{F} & \\text{T} & \\text{T} \\\\\n",
        "\\text{F} & \\text{F} & \\text{F} & \\text{F} \\\\\n",
        "\\end{array}\n",
        "$"
      ]
    },
    {
      "cell_type": "markdown",
      "metadata": {
        "id": "cP5wY6YET6Jz"
      },
      "source": [
        "#### Orden de operaciones"
      ]
    },
    {
      "cell_type": "markdown",
      "metadata": {
        "id": "1fCXwxYST6Jz"
      },
      "source": [
        "1. negación\n",
        "2. conjunción\n",
        "3. disyunción"
      ]
    },
    {
      "cell_type": "markdown",
      "metadata": {
        "id": "9miZIcuGT6Jz"
      },
      "source": [
        "#### Número de operaciones"
      ]
    },
    {
      "cell_type": "markdown",
      "metadata": {
        "id": "z6BewOi6T6Jz"
      },
      "source": [
        "¿Cuántas operaciones n-arias hay? El número de valores elevado al número de tuplas de entrada.\n",
        "* $2^2=4$ operaciones unarias (dos valores, dos entradas)\n",
        "* $2^{2^2}=16$ operaciones binarias (dos valores, cuatro pares de entrada)\n",
        "* $2^{2^3}=256$ operaciones ternarias (dos valores, ocho triplas de entrada)"
      ]
    },
    {
      "cell_type": "code",
      "execution_count": null,
      "metadata": {
        "id": "7GGzq7KET6Jz"
      },
      "outputs": [],
      "source": [
        "list(product((0,1), repeat=2))"
      ]
    },
    {
      "cell_type": "code",
      "execution_count": null,
      "metadata": {
        "colab": {
          "base_uri": "https://localhost:8080/"
        },
        "id": "8G5QYvGPT6Jz",
        "outputId": "f146825e-e3df-447b-ba41-f37fd7942672"
      },
      "outputs": [
        {
          "output_type": "execute_result",
          "data": {
            "text/plain": [
              "[(0, 0, 0, 0),\n",
              " (0, 0, 0, 1),\n",
              " (0, 0, 1, 0),\n",
              " (0, 0, 1, 1),\n",
              " (0, 1, 0, 0),\n",
              " (0, 1, 0, 1),\n",
              " (0, 1, 1, 0),\n",
              " (0, 1, 1, 1),\n",
              " (1, 0, 0, 0),\n",
              " (1, 0, 0, 1),\n",
              " (1, 0, 1, 0),\n",
              " (1, 0, 1, 1),\n",
              " (1, 1, 0, 0),\n",
              " (1, 1, 0, 1),\n",
              " (1, 1, 1, 0),\n",
              " (1, 1, 1, 1)]"
            ]
          },
          "metadata": {},
          "execution_count": 17
        }
      ],
      "source": [
        "list(product((0,1), repeat=2**2))"
      ]
    },
    {
      "cell_type": "markdown",
      "metadata": {
        "id": "7CvP2vVTT6J0"
      },
      "source": [
        "#### n-ario"
      ]
    },
    {
      "cell_type": "markdown",
      "metadata": {
        "id": "8nJDx_HfT6J0"
      },
      "source": [
        "$\n",
        "\\begin{array}{ccc|cc}\n",
        "\\text{P} & \\text{Q} & \\text{R} & \\text{P} \\land \\text{Q} \\land \\text{R} & \\text{P} \\lor \\text{Q} \\lor \\text{R} \\\\\n",
        "\\hline\n",
        "0 & 0 & 0 & 0 & 0 \\\\\n",
        "0 & 0 & 1 & 0 & 1 \\\\\n",
        "0 & 1 & 0 & 0 & 1 \\\\\n",
        "0 & 1 & 1 & 0 & 1 \\\\\n",
        "1 & 0 & 0 & 0 & 1 \\\\\n",
        "1 & 0 & 1 & 0 & 1 \\\\\n",
        "1 & 1 & 0 & 0 & 1 \\\\\n",
        "1 & 1 & 1 & 1 & 1 \\\\\n",
        "\\end{array}\n",
        "$\n",
        "\n",
        "$\n",
        "\\begin{array}{cccc|cc} P & Q & ... & R & P \\land Q \\land ... \\land R & P \\lor Q \\lor ... \\lor R \\\\\n",
        "\\hline\n",
        "0 & 0 & ... & 0 & 0 & 0 \\\\\n",
        "0 & 0 & ... & 1 & 0 & 1 \\\\\n",
        "\\vdots & \\vdots & \\ddots & \\vdots & \\vdots & \\vdots \\\\\n",
        "1 & 1 & ... & 0 & 0 & 1 \\\\\n",
        "1 & 1 & ... & 1 & 1 & 1 \\\\\n",
        "\\end{array}\n",
        "$"
      ]
    },
    {
      "cell_type": "markdown",
      "metadata": {
        "id": "oENQ83bjT6J0"
      },
      "source": [
        "### Tautología proposicional"
      ]
    },
    {
      "cell_type": "markdown",
      "metadata": {
        "id": "bHL9TRtST6J0"
      },
      "source": [
        "Una fórmula proposicional es una tautología si la fórmula es siempre verdadera, independientemente del valor de verdad de las proposiciones individuales que la componen.\n",
        "\n",
        "$\n",
        "\\begin{array}{cc|c}\n",
        "\\text{P} & \\lnot \\text{P} & \\text{P} \\lor \\lnot \\text{P} \\\\\n",
        "\\hline\n",
        "\\text{T} & \\text{F} & \\text{T} \\\\\n",
        "\\text{F} & \\text{T} & \\text{T} \\\\\n",
        "\\end{array}\n",
        "$\n",
        "\n",
        "$\n",
        "\\begin{array}{cc|c}\n",
        "\\text{P} & \\text{Q} & (\\text{P} \\land \\text{Q}) \\rightarrow \\text{P} \\\\\n",
        "\\hline\n",
        "\\text{T} & \\text{T} & \\text{T} \\\\\n",
        "\\text{T} & \\text{F} & \\text{T} \\\\\n",
        "\\text{F} & \\text{T} & \\text{T} \\\\\n",
        "\\text{F} & \\text{F} & \\text{T} \\\\\n",
        "\\end{array}\n",
        "$\n",
        "\n",
        "Para demostrar que una proposición compuesta no es una tautología sólo se requiere un único conjunto de variables proposicionales que hagan que la proposición compuesta sea falsa."
      ]
    },
    {
      "cell_type": "markdown",
      "metadata": {
        "id": "sOwHJl-fT6J0"
      },
      "source": [
        "### Propositional Contradiction"
      ]
    },
    {
      "cell_type": "markdown",
      "metadata": {
        "id": "2H9Y9u9FT6J0"
      },
      "source": [
        "Una fórmula proposicional es una contradicción si la fórmula es siempre falsa, independientemente del valor de verdad de las proposiciones individuales que la componen.\n",
        "\n",
        "$\n",
        "\\begin{array}{cc|c}\n",
        "\\text{P} & \\lnot \\text{P} & \\text{P} \\land \\lnot \\text{P} & \\text{P} \\leftrightarrow \\lnot \\text{P} \\\\\n",
        "\\hline\n",
        "\\text{T} & \\text{F} & \\text{F} & \\text{F} \\\\\n",
        "\\text{F} & \\text{T} & \\text{F} & \\text{F} \\\\\n",
        "\\end{array}\n",
        "$\n",
        "\n",
        "Para demostrar que una proposición compuesta no es una contradicción sólo se requiere un único conjunto de variables proposicionales que hagan verdadera la proposición compuesta."
      ]
    },
    {
      "cell_type": "markdown",
      "metadata": {
        "id": "OLrrdEMgT6J0"
      },
      "source": [
        "### Equivalencia lógica"
      ]
    },
    {
      "cell_type": "markdown",
      "metadata": {
        "id": "dbUeCtj0T6J1"
      },
      "source": [
        "Se dice que dos proposiciones compuestas son lógicamente equivalentes si tienen el mismo valor de verdad independientemente de los valores de verdad de sus proposiciones individuales.\n",
        "\n",
        "$\n",
        "\\begin{array}{ccc}\n",
        "\\text{P} & \\lnot \\text{P} & \\lnot\\lnot\\text{P} \\\\\n",
        "\\hline\n",
        "\\text{T} & \\text{F} & \\text{T} \\\\\n",
        "\\text{F} & \\text{T} & \\text{F} \\\\\n",
        "\\end{array}\n",
        "$\n",
        "\n",
        "$\n",
        "\\text{P} \\equiv \\lnot\\lnot\\text{P}\n",
        "$\n",
        "\n",
        "Propuestas $\\text{P}$ y $\\text{Q}$ son lógicamente equivalentes si y sólo si la proposición $\\text{P}\\leftrightarrow\\text{Q}$ es una tautología.\n",
        "\n",
        "Demostrar que dos proposiciones no son lógicamente equivalentes sólo requiere demostrar un conjunto particular de valores de verdad para sus proposiciones individuales que hacen que las dos proposiciones compuestas tengan valores de verdad diferentes."
      ]
    },
    {
      "cell_type": "markdown",
      "metadata": {
        "id": "iS0PuM2ET6J1"
      },
      "source": [
        "### Leyes de la Lógica Proposicional"
      ]
    },
    {
      "cell_type": "markdown",
      "metadata": {
        "id": "nyIYsBpTT6J1"
      },
      "source": [
        "$\n",
        "\\begin{aligned}\n",
        "\\text{Absorción} && \\begin{aligned} \\text{P} \\lor (\\text{P} \\land \\text{Q}) &\\equiv \\text{P} \\\\  \\text{P} \\land (\\text{P} \\lor \\text{Q}) &\\equiv \\text{P} \\end{aligned} \\\\\n",
        "\\text{Asociatividad} && \\begin{aligned} (\\text{P} \\lor \\text{Q}) \\lor \\text{R} &\\equiv \\text{P} \\lor (\\text{Q} \\lor \\text{R}) \\\\ (\\text{P} \\land \\text{Q}) \\land \\text{R} &\\equiv \\text{P} \\land (\\text{Q} \\land \\text{R}) \\end{aligned} \\\\\n",
        "\\text{Conmutatividad} && \\begin{aligned} \\text{P} \\lor \\text{Q} &\\equiv \\text{Q} \\lor \\text{P} \\\\ \\text{P} \\land \\text{Q} &\\equiv \\text{Q} \\land \\text{P} \\end{aligned} \\\\\n",
        "\\text{Complementariedad} && \\begin{aligned} \\text{P} \\land \\lnot\\text{P} &\\equiv \\text{F} \\\\ \\lnot\\text{T} &\\equiv \\text{F} \\\\ \\text{P} \\lor \\lnot\\text{P} &\\equiv \\text{T} \\\\ \\lnot\\text{F} &\\equiv \\text{T} \\end{aligned} \\\\\n",
        "\\text{Condicionalidad} && \\begin{aligned} \\text{P} \\rightarrow \\text{Q} &\\equiv \\lnot\\text{P} \\lor \\text{Q} \\\\ \\text{P} \\leftrightarrow \\text{Q} &\\equiv (\\text{P} \\rightarrow \\text{Q}) \\land (\\text{Q} \\rightarrow \\text{P}) \\end{aligned} \\\\\n",
        "\\text{Distributividad} && \\begin{aligned} \\text{P} \\lor (\\text{Q} \\land \\text{R}) &\\equiv (\\text{P} \\lor \\text{Q}) \\land (\\text{P} \\lor \\text{R}) \\\\ \\text{P} \\land (\\text{Q} \\lor \\text{R}) &\\equiv (\\text{P} \\land \\text{Q}) \\lor (\\text{P} \\land \\text{R}) \\end{aligned} \\\\\n",
        "\\text{Idempotencia} && \\begin{aligned} \\text{P} \\lor \\text{P} &\\equiv \\text{P} \\\\ \\text{P} \\land \\text{P} &\\equiv \\text{P} \\end{aligned} \\\\\n",
        "\\text{Identidad} && \\begin{aligned} \\text{P} \\lor \\text{F} &\\equiv \\text{P} \\\\ \\text{P} \\land \\text{T} &\\equiv \\text{P} \\end{aligned} \\\\\n",
        "\\text{Ley de Morgan} && \\begin{aligned} \\lnot(\\text{P} \\lor \\text{Q}) &\\equiv \\lnot\\text{P} \\land \\lnot\\text{Q} \\\\ \\lnot(\\text{P} \\land \\text{Q}) &\\equiv \\lnot\\text{P} \\lor \\lnot\\text{Q} \\end{aligned} \\\\\n",
        "\\text{Dominación} && \\begin{aligned} \\text{P} \\land \\text{F} &\\equiv \\text{F} \\\\ \\text{P} \\lor \\text{T} &\\equiv \\text{T} \\end{aligned} \\\\\n",
        "\\text{Doble negación} && \\begin{aligned} \\lnot\\lnot\\text{P} &\\equiv \\text{P} \\end{aligned} \\\\\n",
        "\\end{aligned}\n",
        "$"
      ]
    },
    {
      "cell_type": "markdown",
      "metadata": {
        "id": "1FMjv0lyT6J1"
      },
      "source": [
        "#### Leyes de De Morgan"
      ]
    },
    {
      "cell_type": "markdown",
      "metadata": {
        "id": "UZ0M87EHT6J1"
      },
      "source": [
        "$\n",
        "\\begin{aligned}\n",
        "\\lnot(\\text{P} \\lor \\text{Q}) &\\equiv \\lnot\\text{P} \\land \\lnot\\text{Q} \\\\\n",
        "\\lnot(\\text{P} \\land \\text{Q}) &\\equiv \\lnot\\text{P} \\lor \\lnot\\text{Q} \\\\\n",
        "\\end{aligned}\n",
        "$\n",
        "\n",
        "Prueba por tabla de verdad\n",
        "$\n",
        "\\begin{array}{cc|cc|ccc}\n",
        "\\text{P} & \\text{Q} & \\text{P} \\lor \\text{Q} & \\lnot(\\text{P} \\lor \\text{Q}) & \\lnot\\text{P} & \\lnot\\text{Q} & \\lnot\\text{P} \\land \\lnot\\text{Q} \\\\\n",
        "\\hline\n",
        "\\text{T} & \\text{T} & \\text{T} & \\color{blue}\\text{F} & \\text{F} & \\text{F} & \\color{blue}\\text{F} \\\\\n",
        "\\text{T} & \\text{F} & \\text{T} & \\color{blue}\\text{F} & \\text{F} & \\text{T} & \\color{blue}\\text{F} \\\\\n",
        "\\text{F} & \\text{T} & \\text{T} & \\color{blue}\\text{F} & \\text{T} & \\text{F} & \\color{blue}\\text{F} \\\\\n",
        "\\text{F} & \\text{F} & \\text{F} & \\color{blue}\\text{T} & \\text{T} & \\text{T} & \\color{blue}\\text{T} \\\\\n",
        "\\end{array}\n",
        "$\n",
        "\n",
        "$\n",
        "\\begin{array}{cc|cc|ccc}\n",
        "\\text{P} & \\text{Q} & \\text{P} \\land \\text{Q} & \\lnot(\\text{P} \\land \\text{Q}) & \\lnot\\text{P} & \\lnot\\text{Q} & \\lnot\\text{P} \\lor \\lnot\\text{Q} \\\\\n",
        "\\hline\n",
        "\\text{T} & \\text{T} & \\text{T} & \\color{blue}\\text{F} & \\text{F} & \\text{F} & \\color{blue}\\text{F} \\\\\n",
        "\\text{T} & \\text{F} & \\text{F} & \\color{blue}\\text{T} & \\text{F} & \\text{T} & \\color{blue}\\text{T} \\\\\n",
        "\\text{F} & \\text{T} & \\text{F} & \\color{blue}\\text{T} & \\text{T} & \\text{F} & \\color{blue}\\text{T} \\\\\n",
        "\\text{F} & \\text{F} & \\text{F} & \\color{blue}\\text{T} & \\text{T} & \\text{T} & \\color{blue}\\text{T} \\\\\n",
        "\\end{array}\n",
        "$\n",
        "\n",
        "$\n",
        "\\therefore\n",
        "\\begin{aligned}\n",
        "\\lnot(\\text{P} \\lor \\text{Q}) &\\equiv \\lnot\\text{P} \\land \\lnot\\text{Q} \\\\\n",
        "\\lnot(\\text{P} \\land \\text{Q}) &\\equiv \\lnot\\text{P} \\lor \\lnot\\text{Q} \\\\\n",
        "\\end{aligned}\n",
        "$\n",
        "\n",
        "$\\blacksquare$"
      ]
    },
    {
      "cell_type": "markdown",
      "metadata": {
        "id": "1zskeO_yT6J1"
      },
      "source": [
        "### Sustitución"
      ]
    },
    {
      "cell_type": "markdown",
      "metadata": {
        "id": "4BePngLtT6J1"
      },
      "source": [
        "Si dos proposiciones son lógicamente equivalentes, entonces una puede sustituirse por la otra dentro de una proposición más copleja: la proposición compuesta después de la sustitución es lógicamente equivalente a la proposición compuesta antes de la sustitución. La sustitución ofrece una forma alternativa de demostrar que dos proposiciones son lógicamente equivalentes. Si una proposición puede obtenerse a partir de otra mediante una serie de sustituciones utilizando expresiones equivalentes, entonces las dos proposiciones son lógicamente equivalentes.\n",
        "\n",
        "$\n",
        "\\begin{aligned}\n",
        "\\text{P} \\rightarrow \\text{Q} &\\equiv \\lnot\\text{P} \\lor \\text{Q} \\\\\n",
        "\\therefore (\\text{P} \\lor \\text{R}) \\land (\\text{P} \\rightarrow \\text{Q}) &\\equiv (\\text{P} \\lor \\text{R}) \\land (\\lnot\\text{P} \\lor \\text{Q}) \\\\\n",
        "\\end{aligned}\n",
        "$\n",
        "\n",
        "$\n",
        "\\begin{aligned}\n",
        "\\text{P} &\\equiv \\lnot\\text{T} \\land \\text{R} \\\\\n",
        "\\text{Q} &\\equiv \\lnot\\text{S} \\lor \\text{T} \\\\\n",
        "\\text{P} \\rightarrow \\text{Q} &\\equiv \\lnot\\text{P} \\lor \\text{Q} \\\\\n",
        "\\therefore (\\lnot\\text{T} \\land \\text{R}) \\rightarrow (\\lnot\\text{S} \\lor \\text{T}) &\\equiv \\lnot(\\lnot\\text{T} \\land \\text{R}) \\lor (\\lnot\\text{S} \\lor \\text{T}) \\\\\n",
        "\\end{aligned}\n",
        "$"
      ]
    },
    {
      "cell_type": "markdown",
      "metadata": {
        "id": "JymswBlKT6J1"
      },
      "source": [
        "---"
      ]
    },
    {
      "cell_type": "markdown",
      "metadata": {
        "id": "grCC8u3GT6J2"
      },
      "source": [
        "## Lógica de predicados"
      ]
    },
    {
      "cell_type": "markdown",
      "metadata": {
        "id": "VE_nwBt-T6J2"
      },
      "source": [
        "Un enunciado lógico (o proposición) cuyo valor de verdad es una función de una o más variables se denomina predicado $P(x_1,...,x_n)$.\n",
        "\n",
        "Por ejemplo\n",
        "* Sea $P(x):x\\,\\text{is even}$ sea un predicado. Entonces la proposición $P(1)$ es falsa pero la proposición $P(2)$ es verdadera.\n",
        "* Sea $Q(x,y):x^2=y$ sea un predicado. Entonces la proposición $Q(5,25)$ es verdadera.\n",
        "* Sea $R(x,y,z):x+y=z$ sea un predicado. Entonces la proposición $R(2,3,6)$ es falsa."
      ]
    },
    {
      "cell_type": "markdown",
      "metadata": {
        "id": "AOsslCf9T6J2"
      },
      "source": [
        "[CUANTIFICADOR UNIVERSAL]\n",
        "\n",
        "La declaración $\\forall x\\,P(x)$ (\"para todos/cada  x, es el caso que P(x)\") afirma que $P(x)$ es cierto para todos los valores posibles de $x$ en su dominio.\n",
        "\n",
        "El símbolo $\\forall$ se denomina cuantificador universal.\n",
        "\n",
        "La declaración $\\forall x\\,P(x)$ se denomina enunciado universalmente cuantificado.\n",
        "\n",
        "$\\forall x\\,P(x)$ es una proposición porque es verdadera o falsa.\n",
        "\n",
        "$\\forall x\\,P(x)$ es verdadera si y sólo si $P(n)$ es cierto para cada $n$ en el dominio de la variable $x$.\n",
        "\n",
        "Si el dominio es un conjunto finito $\\{a_1,a_2,...,a_k\\}$ entonces\n",
        "\n",
        "$\\forall x\\,P(x) \\equiv P(a_1) \\land P(a_2) \\land ... \\land P(a_k)$\n",
        "\n",
        "Para demostrar que $\\forall x\\,P(x)$ es cierto requiere demostrar que $P(a_1) \\land P(a_2) \\land ... \\land P(a_k)$ es verdadera. Algunos enunciados universalmente cuantificados pueden demostrarse que son verdaderos mostrando que el predicado es válido para un elemento arbitrario del dominio (donde un elemento arbitrario significa que no se asume nada sobre el elemento aparte del hecho de que está en el dominio).\n",
        "\n",
        "Un contraejemplo de un enunciado cuantificado universalmente es un elemento del dominio para el que el predicado es falso. Un solo contraejemplo es suficiente para demostrar que un enunciado cuantificado universalmente es falso."
      ]
    },
    {
      "cell_type": "markdown",
      "metadata": {
        "id": "eOl5mElbT6J2"
      },
      "source": [
        "[EJEMPLO]\n",
        "\n",
        "Sea el dominio de $x$ el conjunto de los enteros positivos.\n",
        "\n",
        "$\n",
        "\\begin{aligned}\n",
        "\\forall x \\, \\left( \\frac{1}{x+1} \\lt 1 \\right)\n",
        "\\end{aligned}\n",
        "$\n",
        "\n",
        "es cierta porque la desigualdad se cumple cuando a $x$ se le asigna un valor arbitrario del conjunto de enteros positivos.\n",
        "\n",
        "$\n",
        "\\begin{aligned}\n",
        "0 &\\lt x && \\text{verdadero para todos los números enteros positivos} \\, x \\\\\n",
        "1 &\\lt x + 1 && \\text{añadir uno a ambos lados} \\\\\n",
        "\\frac{1}{x+1} &\\le 1 && \\text{dividir ambos lados por} \\, x+1 \\\\\n",
        "\\end{aligned}\n",
        "$\n",
        "\n",
        "$\\blacksquare$"
      ]
    },
    {
      "cell_type": "markdown",
      "metadata": {
        "id": "KCWXoKleT6J2"
      },
      "source": [
        "[CUANTIFICADOR EXISTENCIAL]\n",
        "\n",
        "El enunciado $\\exists x\\,P(x)$ (\"existe una x, tal que P(x)\") afirma que $P(x)$ es verdadera para al menos un valor posible de $x$ en su dominio.\n",
        "\n",
        "La declaración $\\forall x\\,P(x)$ se denomina enunciado existencialmente cuantificado.\n",
        "\n",
        "$\\forall x\\,P(x)$ es una proposición porque es verdadera o falsa.\n",
        "\n",
        "$\\forall x\\,P(x)$ es verdadera si y sólo si $P(n)$ es cierto para al menos una $n$ en el dominio de la variable $x$.\n",
        "\n",
        "Si el dominio es un conjunto finito $\\{a_1,a_2,...,a_k\\}$ entonces\n",
        "\n",
        "$\\exists x\\,P(x) \\equiv P(a_1) \\lor P(a_2) \\lor ... \\lor P(a_k)$\n",
        "\n",
        "Demostrar que $\\forall x\\,P(x)$ es cierto requiere demostrar que $P(a_1) \\lor P(a_2) \\lor ... \\lor P(a_k)$ es verdadero. Se puede demostrar que algunos enunciados cuantificados existencialmente son falsos mostrando que el predicado es falso para un elemento arbitrario del dominio (donde un elemento arbitrario significa que no se asume nada sobre el elemento aparte del hecho de que está en el dominio)."
      ]
    },
    {
      "cell_type": "markdown",
      "metadata": {
        "id": "Gr4pSdLeT6J2"
      },
      "source": [
        "[EJEMPLO]\n",
        "\n",
        "Sea el dominio de $x$ sea el conjunto de los números enteros positivos.\n",
        "\n",
        "$\n",
        "\\begin{aligned}\n",
        "\\exists x \\, (x + 1 \\lt x)\n",
        "\\end{aligned}\n",
        "$\n",
        "\n",
        "es falsa porque ningún número entero positivo satisface la expresión $x + 1 \\lt x$.\n",
        "\n",
        "$\n",
        "\\begin{aligned}\n",
        "x + 1 &\\lt x && \\\\\n",
        "1 &\\not\\lt 0 && \\text{se resta x a ambos lados} \\\\\n",
        "\\end{aligned}\n",
        "$\n",
        "\n",
        "$\\blacksquare$"
      ]
    },
    {
      "cell_type": "markdown",
      "metadata": {
        "id": "VrzgGWBOT6J2"
      },
      "source": [
        "[ENUNCIADO CUANTIFICADO]\n",
        "\n",
        "Un enunciado lógico que incluye un cuantificador universal o existencial se denomina enunciado cuantificado.\n",
        "\n",
        "Orden de las operaciones\n",
        "* Cuantificadores\n",
        "* Operaciones lógicas\n",
        "\n",
        "$\\forall x \\, P(x) \\land Q(x)$ es $(\\forall x \\, P(x)) \\land Q(x)$, not $\\forall x \\, (P(x) \\land Q(x))$"
      ]
    },
    {
      "cell_type": "markdown",
      "metadata": {
        "id": "-gf0GDicT6J3"
      },
      "source": [
        "[VARIABLE LIBRE]\n",
        "\n",
        "Una variable $x$ es el predicado $P(x)$ se llama variable libre porque la variable es libre de tomar cualquier valor en el dominio.\n",
        "\n",
        "[VARIABLE LIGADA]\n",
        "\n",
        "La variable $x$ en la sentencia $\\forall x \\, P(x)$ es una variable ligada porque la variable está ligada a un cuantificador.\n",
        "\n",
        "Un enunciado sin variables libres es una proposición porque se puede determinar el valor de verdad del enunciado.\n",
        "\n",
        "[Ejemplo]\n",
        "\n",
        "En el enunciado $(\\forall x \\, P(x)) \\land Q(x)$, la variable $x$ en $P(x)$ está ligada por el cuantificador universal, pero la variable $x$ en $Q(x)$ no está ligada por el cuantificador universal. Por lo tanto, el enunciado $(\\forall x \\, P(x)) \\land Q(x)$ no es una proposición.\n",
        "\n",
        "[Ejemplo]\n",
        "\n",
        "En la declaración $\\forall x \\, (P(x) \\land Q(x))$, el cuantificador universal vincula ambas apariciones de la variable $x$. Por lo tanto, el enunciado $\\forall x \\, (P(x) \\land Q(x))$ es una proposición."
      ]
    },
    {
      "cell_type": "markdown",
      "metadata": {
        "id": "NaNV9YNfT6J3"
      },
      "source": [
        "[EQUIVALENCIA LÓGICA]\n",
        "\n",
        "Dos enunciados cuantificados tienen el mismo significado lógico si tienen el mismo valor de verdad independientemente del valor de los predicados de los elementos del dominio.\n",
        "\n",
        "[Ejemplo]\n",
        "\n",
        "Dominio: conjunto de personas invitadas a una fiesta\n",
        "\n",
        "Predicados:\n",
        "\n",
        "$\n",
        "\\begin{aligned}\n",
        "P(x) &: x \\, \\text{vino a la fiesta} \\\\\n",
        "S(x) &: x \\, \\text{estaba enfermo} \\\\\n",
        "\\end{aligned}\n",
        "$\n",
        "\n",
        "$\n",
        "\\begin{array}{c|cc}\n",
        "x & S(x) & P(x) \\\\\n",
        "\\hline\n",
        "\\text{Ciro} & \\text{F} & \\text{T} \\\\\n",
        "\\text{Diego} & \\text{T} & \\text{F} \\\\\n",
        "\\text{Magnolia} & \\text{F} & \\text{T} \\\\\n",
        "\\text{David} & \\text{F} & \\text{F} \\\\\n",
        "\\end{array}\n",
        "$\n",
        "\n",
        "$\n",
        "\\begin{aligned}\n",
        "P(\\text{Magnolia}) &= \\text{true} && \\text{Magnolia vino a la fiesta.} \\\\\n",
        "S(\\text{Magnolia}) &= \\text{false} && \\text{Magnolia estaba enferma.} \\\\\n",
        "\\forall x \\, \\lnot S(x) &= \\text{false} && \\text{No todos estaban enfermos.} \\\\\n",
        "\\exists x \\, (S(x) \\lor P(x)) &= \\text{true} && \\text{Alguien estaba enfermo o vino a la fiesta.} \\\\\n",
        "\\exists x \\, (S(x) \\land P(x)) &= \\text{false} && \\text{Alguien estaba enfermo y vino a la fiesta.} \\\\\n",
        "\\exists x \\, S(x) \\land \\exists x \\, P(x) &= \\text{true} && \\text{Alguien estaba enfermo y alguien vino a la fiesta.} \\\\\n",
        "\\end{aligned}\n",
        "$"
      ]
    },
    {
      "cell_type": "markdown",
      "metadata": {
        "id": "usLGi1ieT6J3"
      },
      "source": [
        "[LEYES DE MORGAN PARA ENUNCIADOS CUANTIFICADOS]\n",
        "\n",
        "Sea $\\{a_1,...,a_k\\}$ sea un dominio finito de discurso.\n",
        "\n",
        "Ley de De Morgan para afirmaciones cuantificadas universalmente\n",
        "\n",
        "$\n",
        "\\begin{aligned}\n",
        "\\lnot \\forall x \\, P(x) &\\equiv \\exists x \\, \\lnot P(x) \\\\\n",
        "\\exists x \\, \\lnot P(x) &\\equiv \\lnot P(a_1) \\lor \\lnot P(a_2) \\lor ... \\lor \\lnot P(a_n) \\\\\n",
        "\\lnot P(a_1) \\lor \\lnot P(a_2) \\lor ... \\lor \\lnot P(a_n) &\\equiv \\lnot(P(a_1) \\land P(a_2) \\land ... \\land P(a_n)) \\\\\n",
        "\\lnot(P(a_1) \\land P(a_2) \\land ... \\land P(a_n)) &\\equiv \\lnot \\forall x \\, P(x) \\\\\n",
        "\\end{aligned}\n",
        "$\n",
        "\n",
        "Ley de De Morgan para afirmaciones cuantificadas existencialmente\n",
        "\n",
        "$\n",
        "\\begin{aligned}\n",
        "\\lnot \\exists x \\, P(x) &\\equiv \\forall x \\, \\lnot P(x) \\\\\n",
        "\\forall x \\, \\lnot P(x) &\\equiv \\lnot P(a_1) \\land \\lnot P(a_2) \\land ... \\land \\lnot P(a_n) \\\\\n",
        "\\lnot P(a_1) \\land \\lnot P(a_2) \\land ... \\land \\lnot P(a_n) &\\equiv \\lnot(P(a_1) \\lor P(a_2) \\lor ... \\lor P(a_n)) \\\\\n",
        "\\lnot(P(a_1) \\lor P(a_2) \\lor ... \\lor P(a_n)) &\\equiv \\lnot \\exists x \\, P(x) \\\\\n",
        "\\end{aligned}\n",
        "$"
      ]
    },
    {
      "cell_type": "code",
      "source": [
        "import itertools\n",
        "import re\n",
        "from tabulate import tabulate\n",
        "from collections import OrderedDict\n",
        "\n",
        "symbols = {'∧', '∨', '→', '↔'} # Symbols for easy copying into logical statement\n",
        "\n",
        "statement = '~(A ∧ B) ↔ (~A ∨ ~B)'\n",
        "\n",
        "\n",
        "def parenthetic_contents(string):\n",
        "    \"\"\"\n",
        "    From http://stackoverflow.com/questions/4284991/parsing-nested-parentheses-in-python-grab-content-by-level\n",
        "\n",
        "    Generates parenthesized contents in string as pairs (level, contents).\n",
        "\n",
        "    >>> list(parenthetic_contents('~(p ∨ q) ↔ (~p ∧ ~q)')\n",
        "    [(0, 'p ∨ q'), (0, '~p ∧ ~q')]\n",
        "    \"\"\"\n",
        "    stack = []\n",
        "    for i, char in enumerate(string):\n",
        "        if char == '(':\n",
        "            stack.append(i)\n",
        "        elif char == ')' and stack:\n",
        "            start = stack.pop()\n",
        "            yield (len(stack), string[start + 1: i])\n",
        "\n",
        "\n",
        "def conditional(p, q):\n",
        "    \"\"\"Evaluates truth of conditional for boolean variables p and q.\"\"\"\n",
        "    return False if p and not q else True\n",
        "\n",
        "\n",
        "def biconditional(p, q):\n",
        "    \"\"\" Evaluates truth of biconditional for boolean variables p and q.\"\"\"\n",
        "    return (True if p and q\n",
        "        else True if not p and not q\n",
        "        else False)\n",
        "\n",
        "\n",
        "def and_func(p, q):\n",
        "    \"\"\" Evaluates truth of AND operator for boolean variables p and q.\"\"\"\n",
        "    return p and q\n",
        "\n",
        "\n",
        "def or_func(p, q):\n",
        "    \"\"\" Evaluates truth of OR operator for boolean variables p and q.\"\"\"\n",
        "    return p or q\n",
        "\n",
        "def negate(p):\n",
        "    \"\"\" Evaluates truth of NOT operator for boolean variables p and q.\"\"\"\n",
        "    return not p\n",
        "\n",
        "def apply_negations(string):\n",
        "    \"\"\"\n",
        "    Applies the '~' operator when it appears directly before a binary number.\n",
        "\n",
        "    >>> apply_negations('~1 ∧ 0')\n",
        "    '0 ∧ 0'\n",
        "    \"\"\"\n",
        "    new_string = string[:]\n",
        "    for i, char in enumerate(string):\n",
        "        if char == '~':\n",
        "            try:\n",
        "                next_char = string[i+1] # Character proceeding '~'\n",
        "                num = int(next_char)\n",
        "                negated = str(int(negate(num)))\n",
        "                new_string = new_string.replace('~'+string[i+1], negated)\n",
        "            except:\n",
        "                # Character proceeding '~' is not a number\n",
        "                pass\n",
        "    return new_string\n",
        "\n",
        "\n",
        "def eval_logic(string):\n",
        "    \"\"\"\n",
        "    Returns the value of a simple logical statement with binary numbers.\n",
        "\n",
        "    >>> eval_logic('1 ∧ 0')\n",
        "    0\n",
        "    \"\"\"\n",
        "\n",
        "    string = string.replace(' ', '') # Remove spaces\n",
        "    string = apply_negations(string) # Switch ~0 to 1, ~1 to 0\n",
        "    new_string = string[:]\n",
        "    operators = {\n",
        "        '∧': and_func,\n",
        "        '∨': or_func,\n",
        "        '→': conditional,\n",
        "        '↔': biconditional,\n",
        "        }\n",
        "    for i, char in enumerate(string):\n",
        "        if char in operators:\n",
        "            logical_expression = string[i-1 : i+2]\n",
        "            truth_value_1, truth_value_2 = int(string[i-1]), int(string[i+1])\n",
        "            boolean = operators[char](truth_value_1, truth_value_2)\n",
        "    try:\n",
        "        return int(boolean) # Return boolean as 0 or 1\n",
        "    except:\n",
        "        # None of the logical operators were found in the string\n",
        "        return int(string) # Return the value of the string itself\n",
        "\n",
        "\n",
        "def get_variables(statement):\n",
        "    \"\"\"\n",
        "    Finds all alphabetic characters in a logical statement string.\n",
        "    Returns characters in a list.\n",
        "\n",
        "    statement : str\n",
        "        Statement containing variables and logical operators\n",
        "\n",
        "    >>> get_variables('~(p ∨ q) ↔ (~p ∧ ~q)')\n",
        "    ['p', 'q']\n",
        "    \"\"\"\n",
        "    variables = {char for char in statement if char.isalpha()} # Identify variables\n",
        "    variables = list(variables)\n",
        "    variables.sort()\n",
        "    return variables\n",
        "\n",
        "\n",
        "def truth_combos(statement):\n",
        "    \"\"\"\n",
        "    Returns a list of dictionaries, containing all possible values of the variables in a logical statement string.\n",
        "\n",
        "    statement : str\n",
        "        Statement containing variables and logical operators\n",
        "\n",
        "    >>> truth_combos('(~(p ∨ q) ↔ (~p ∧ ~q))')\n",
        "    [{'q': 1, 'p': 1}, {'q': 0, 'p': 1}, {'q': 1, 'p': 0}, {'q': 0, 'p': 0}]\n",
        "    \"\"\"\n",
        "    variables = get_variables(statement)\n",
        "    combo_list = []\n",
        "    for booleans in itertools.product([True, False], repeat = len(variables)):\n",
        "        int_bool = [int(x) for x in booleans] # Replace True with 1, False with 0\n",
        "        combo_list.append(dict(zip(variables, int_bool)))\n",
        "    return combo_list\n",
        "\n",
        "\n",
        "def replace_variables(string, truth_values):\n",
        "    \"\"\"\n",
        "    Replaces logical variables with truth values in a string.\n",
        "\n",
        "    string : str\n",
        "        Logical expression\n",
        "\n",
        "    truth_values : dict\n",
        "        Dictionary mapping variable letters to their current truth values (0/1)\n",
        "\n",
        "    >>> replace_variables('Q ∨ R', {'Q': 1, 'R': 1, 'P': 1})\n",
        "    '1 ∨ 1'\n",
        "    \"\"\"\n",
        "    for variable in truth_values:\n",
        "        bool_string = str(truth_values[variable])\n",
        "        string = string.replace(variable, bool_string)\n",
        "    return string\n",
        "\n",
        "\n",
        "def simplify(valued_statement):\n",
        "    \"\"\"\n",
        "    Simplifies a logical statement by evaluating the statements contained in the innermost parentheses.\n",
        "\n",
        "    valued_statement : str\n",
        "        Statement containing binary numbers and logical operators\n",
        "\n",
        "    >>> simplify('(~(0 ∧ 0) ↔ (~0 ∨ ~0))')\n",
        "    '(~0 ↔ 1)'\n",
        "    \"\"\"\n",
        "    brackets_list = list(parenthetic_contents(valued_statement))\n",
        "    if not brackets_list:\n",
        "        # There are no brackets in the statement\n",
        "        return str(eval_logic(valued_statement))\n",
        "    deepest_level = max([i for (i,j) in brackets_list]) # Deepest level of nested brackets\n",
        "    for level, string in brackets_list:\n",
        "        if level == deepest_level:\n",
        "            bool_string = str(eval_logic(string))\n",
        "            valued_statement = valued_statement.replace('('+string+')', bool_string)\n",
        "    return valued_statement\n",
        "\n",
        "\n",
        "def solve(valued_statement):\n",
        "    \"\"\"\n",
        "    Fully solves a logical statement. Returns answer as binary integer.\n",
        "\n",
        "    valued_statement : str\n",
        "        Statement containing binary numbers and logical operators\n",
        "\n",
        "    >>> solve('(~(0 ∧ 0) ↔ (~0 ∨ ~0))')\n",
        "    1\n",
        "    \"\"\"\n",
        "    while len(valued_statement) > 1:\n",
        "        valued_statement = simplify(valued_statement)\n",
        "    return int(valued_statement)\n",
        "\n",
        "\n",
        "def get_truth_table(statement):\n",
        "    \"\"\"\n",
        "\n",
        "    Returns a truth table in the form of nested list.\n",
        "    Also returns a boolean 'tautology' which is True if the logical statement is always true.\n",
        "\n",
        "    statement : str\n",
        "        Statement containing variables and logical operators\n",
        "\n",
        "    >>> get_truth_table('~(A ∧ B) ↔ (~A ∨ ~B)')\n",
        "    ([[1, 1, 1], [1, 0, 1], [0, 1, 1], [0, 0, 1]], True)\n",
        "    \"\"\"\n",
        "    if statement[0] != '(':\n",
        "        statement = '('+statement+')' # Add brackets to ends\n",
        "    variables = get_variables(statement)\n",
        "    combo_list = truth_combos(statement)\n",
        "    truth_table_values = []\n",
        "    tautology = True\n",
        "    for truth_values in combo_list:\n",
        "        valued_statement = replace_variables(statement, truth_values)\n",
        "        ordered_truth_values = OrderedDict(sorted(truth_values.items()))\n",
        "        answer = solve(valued_statement)\n",
        "        truth_table_values.append(list(ordered_truth_values.values()) + [answer])\n",
        "        if answer != 1:\n",
        "            tautology = False\n",
        "    return truth_table_values, tautology\n",
        "\n",
        "\n",
        "variables = get_variables(statement)\n",
        "truth_table_values, tautology = get_truth_table(statement)\n",
        "\n",
        "\n",
        "print(\n",
        "\"\"\"\n",
        "Logical statement:\n",
        "\n",
        "{}\n",
        "\n",
        "Truth Table:\n",
        "\n",
        "{}\n",
        "\n",
        "Statement {} a tautology\n",
        "\"\"\".format(\n",
        "    statement,\n",
        "    tabulate(truth_table_values, headers=variables + ['Answer']),\n",
        "    'is' if tautology else 'is not'\n",
        "))"
      ],
      "metadata": {
        "id": "Oxyi7qhEnpG0"
      },
      "execution_count": null,
      "outputs": []
    },
    {
      "cell_type": "code",
      "source": [
        ">>> get_truth_table('AB')\n",
        "^C\n",
        "  File \"<stdin>\", line 1, in <module>\n",
        "  File \"cr145465.py\", line 215, in get_truth_table\n",
        "    answer = solve(valued_statement)\n",
        "  File \"cr145465.py\", line 190, in solve\n",
        "    valued_statement = simplify(valued_statement)\n",
        "  File \"cr145465.py\", line 170, in simplify\n",
        "    return str(eval_logic(valued_statement))\n",
        "KeyboardInterrupt"
      ],
      "metadata": {
        "id": "ybBmuxaXobYi"
      },
      "execution_count": null,
      "outputs": []
    },
    {
      "cell_type": "code",
      "source": [
        "https://codereview.stackexchange.com/questions/145465/creating-truth-table-from-a-logical-statement"
      ],
      "metadata": {
        "id": "IWPZYtxpocyr"
      },
      "execution_count": null,
      "outputs": []
    },
    {
      "cell_type": "markdown",
      "metadata": {
        "id": "7IGNReAdT6J5"
      },
      "source": [
        "---"
      ]
    }
  ],
  "metadata": {
    "kernelspec": {
      "display_name": "ml",
      "language": "python",
      "name": "python3"
    },
    "language_info": {
      "codemirror_mode": {
        "name": "ipython",
        "version": 3
      },
      "file_extension": ".py",
      "mimetype": "text/x-python",
      "name": "python",
      "nbconvert_exporter": "python",
      "pygments_lexer": "ipython3",
      "version": "3.11.4"
    },
    "orig_nbformat": 4,
    "colab": {
      "provenance": [],
      "include_colab_link": true
    }
  },
  "nbformat": 4,
  "nbformat_minor": 0
}